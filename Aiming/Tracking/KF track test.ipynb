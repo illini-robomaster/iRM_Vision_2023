{
 "cells": [
  {
   "cell_type": "code",
   "execution_count": 8,
   "id": "2b268ada",
   "metadata": {},
   "outputs": [],
   "source": [
    "import cv2\n",
    "import numpy as np"
   ]
  },
  {
   "cell_type": "code",
   "execution_count": 9,
   "id": "8ff1cbb8",
   "metadata": {
    "scrolled": true
   },
   "outputs": [],
   "source": [
    "# 创建卡尔曼滤波器\n",
    "kf = cv2.KalmanFilter(4, 2)\n",
    "\n",
    "# 初始化状态估计值和协方差矩阵\n",
    "kf.statePost = np.array([0, 0, 0, 0], dtype=np.float32)\n",
    "kf.errorCovPost = np.eye(4, dtype=np.float32)\n",
    "\n",
    "# 设置卡尔曼滤波器参数\n",
    "dt = 1.0  # 采样间隔\n",
    "kf.transitionMatrix = np.array([[1, 0, dt, 0],\n",
    "                                [0, 1, 0, dt],\n",
    "                                [0, 0, 1, 0],\n",
    "                                [0, 0, 0, 1]], dtype=np.float32)\n",
    "kf.processNoiseCov = np.array([[1, 0, 0, 0],\n",
    "                               [0, 1, 0, 0],\n",
    "                               [0, 0, 1, 0],\n",
    "                               [0, 0, 0, 1]], dtype=np.float32) * 0.0001\n",
    "kf.measurementMatrix = np.array([[1, 0, 0, 0],\n",
    "                                 [0, 1, 0, 0]], dtype=np.float32)\n",
    "kf.measurementNoiseCov = np.array([[1, 0],\n",
    "                                   [0, 1]], dtype=np.float32) * 1"
   ]
  },
  {
   "cell_type": "code",
   "execution_count": 11,
   "id": "9c9cbede",
   "metadata": {},
   "outputs": [],
   "source": [
    "# 打开摄像头\n",
    "cap = cv2.VideoCapture(0)\n",
    "\n",
    "# 读取一帧图像\n",
    "ret, frame = cap.read()\n",
    "\n",
    "# 将图像转换为灰度图\n",
    "gray = cv2.cvtColor(frame, cv2.COLOR_BGR2GRAY)\n",
    "\n",
    "# 检测目标，提取目标的中心点坐标\n",
    "x, y, w, h = cv2.selectROI(\"SelectROI\", frame, fromCenter=False, showCrosshair=True)\n",
    "\n",
    "while True:\n",
    "    # 读取一帧图像\n",
    "    ret, frame = cap.read()\n",
    "    if not ret:\n",
    "        break\n",
    "\n",
    "    # 将图像转换为灰度图\n",
    "    gray = cv2.cvtColor(frame, cv2.COLOR_BGR2GRAY)\n",
    "\n",
    "    # 检测目标，提取目标的中心点坐标\n",
    "   \n",
    "    cx, cy = x + w/2, y + h/2\n",
    "\n",
    "    # 对中心点坐标进行卡尔曼滤波\n",
    "    prediction = kf.predict()\n",
    "    measurement = np.array([cx, cy], dtype=np.float32)\n",
    "    kf.correct(measurement)\n",
    "\n",
    "    # 绘制目标位置（绿）和卡尔曼滤波器预测的位置（红）\n",
    "    cv2.circle(frame, (int(cx), int(cy)), 5, (0, 255, 0), -1)\n",
    "    cv2.circle(frame, (int(prediction[0]), int(prediction[1])), 5, (0, 0, 255), -1)\n",
    "\n",
    "    # 显示结果\n",
    "    cv2.imshow(\"Kalman Filter\", frame)\n",
    "\n",
    "    # 按下ESC键退出\n",
    "    if cv2.waitKey(1) == 27:\n",
    "        break\n",
    "\n",
    "# 释放摄像头并关闭窗口\n",
    "cap.release()\n",
    "cv2.destroyAllWindows()\n"
   ]
  },
  {
   "cell_type": "code",
   "execution_count": null,
   "id": "6d9d6bc8",
   "metadata": {},
   "outputs": [],
   "source": []
  },
  {
   "cell_type": "code",
   "execution_count": null,
   "id": "562b9a62",
   "metadata": {},
   "outputs": [],
   "source": []
  },
  {
   "cell_type": "code",
   "execution_count": null,
   "id": "16e8b8a4",
   "metadata": {},
   "outputs": [],
   "source": []
  }
 ],
 "metadata": {
  "kernelspec": {
   "display_name": "Python 3 (ipykernel)",
   "language": "python",
   "name": "python3"
  },
  "language_info": {
   "codemirror_mode": {
    "name": "ipython",
    "version": 3
   },
   "file_extension": ".py",
   "mimetype": "text/x-python",
   "name": "python",
   "nbconvert_exporter": "python",
   "pygments_lexer": "ipython3",
   "version": "3.9.15"
  }
 },
 "nbformat": 4,
 "nbformat_minor": 5
}
